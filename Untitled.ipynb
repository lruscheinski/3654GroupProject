{
 "cells": [
  {
   "cell_type": "markdown",
   "id": "939af2ab",
   "metadata": {},
   "source": [
    "# Ranking offensive output of NBA guards\n",
    "## Offensive Data\n",
    "### Members:\n",
    "Tejus Janakiraman (tejusj)\n",
    "<br>\n",
    "Zubin Joseph (zoobi)\n",
    "\n"
    "Logan Ruschienski (lruscheinski)\n"
    "\n"
   ]
  },
  {
   "cell_type": "markdown",
   "id": "c64c4b81",
   "metadata": {},
   "source": [
    "# Initial Description: \n",
    "Our intial goal is to quantify offensive impact of NBA guards and rank them based on a developed metric. We want to ensure the data is properly cleaned before we attempt to work on the data and answer our potential questions. \n",
    "\n",
    "# Potential Questions: \n",
    "Who is the NBA guard with the highest offensive output of all time? \n",
    "<br>\n",
    "What is the best box statistic (basic stat ie. Points, rebounds, assists) to predict offensive output?\n",
    "<br>\n",
    "What actual metrics actually compares offensive output?\n",
    "<br>\n",
    "Should we consider the time spent as an NBA player for our ranking?\n",
    "\n",
    "# Potential References \n",
    "\n",
    "These two sources will hopefully help us assess different strengths and weaknesses of various NBA guards. We will use this data to answer the potential questions and may help us think of new questions and relationships to consider.\n",
    "\n",
    "https://www.basketball-reference.com/\n",
    "<br>\n",
    "https://stathead.com/basketball/\n"
   ]
  },
  {
   "cell_type": "code",
   "execution_count": null,
   "id": "d13b47db",
   "metadata": {},
   "outputs": [],
   "source": []
  }
 ],
 "metadata": {
  "kernelspec": {
   "display_name": "Python 3 (ipykernel)",
   "language": "python",
   "name": "python3"
  },
  "language_info": {
   "codemirror_mode": {
    "name": "ipython",
    "version": 3
   },
   "file_extension": ".py",
   "mimetype": "text/x-python",
   "name": "python",
   "nbconvert_exporter": "python",
   "pygments_lexer": "ipython3",
   "version": "3.9.7"
  }
 },
 "nbformat": 4,
 "nbformat_minor": 5
}
